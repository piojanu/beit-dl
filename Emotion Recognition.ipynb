{
 "cells": [
  {
   "cell_type": "code",
   "execution_count": null,
   "metadata": {},
   "outputs": [
    {
     "name": "stdout",
     "output_type": "stream",
     "text": [
      "Train on 22967 samples, validate on 5742 samples\n",
      "Epoch 1/10000\n",
      "22967/22967 [==============================] - 23s 1ms/step - loss: 13.1926 - acc: 0.1541 - val_loss: 13.9911 - val_acc: 0.1318\n",
      "\n",
      "Epoch 00001: val_loss improved from inf to 13.99106, saving model to ./checkpoints/best_weights.hdf5\n",
      "Epoch 2/10000\n",
      "22967/22967 [==============================] - 23s 1ms/step - loss: 13.4892 - acc: 0.1456 - val_loss: 13.9909 - val_acc: 0.1318\n",
      "\n",
      "Epoch 00002: val_loss improved from 13.99106 to 13.99094, saving model to ./checkpoints/best_weights.hdf5\n",
      "Epoch 3/10000\n",
      "22967/22967 [==============================] - 28s 1ms/step - loss: 13.2369 - acc: 0.1412 - val_loss: 13.9911 - val_acc: 0.1318\n",
      "\n",
      "Epoch 00003: val_loss did not improve\n",
      "Epoch 4/10000\n",
      " 4064/22967 [====>.........................] - ETA: 18s - loss: 13.2645 - acc: 0.1427"
     ]
    }
   ],
   "source": [
    "from keras.models import Sequential\n",
    "from keras.callbacks import ModelCheckpoint, TensorBoard, EarlyStopping\n",
    "from keras.layers import Activation, Dense, Dropout, Flatten, Conv2D, MaxPooling2D, Reshape\n",
    "from keras.utils import to_categorical\n",
    "from keras.backend import image_data_format\n",
    "\n",
    "from sklearn import datasets\n",
    "from sklearn.cross_validation import train_test_split\n",
    "\n",
    "from utils.ferloader import load_fer\n",
    "\n",
    "# Constants\n",
    "IMAGE_WIDTH = 48\n",
    "IMAGE_HEIGHT = 48\n",
    "EMOTIONS = [\"Angry\", \"Disgust\", \"Fear\", \"Happy\", \"Sad\", \"Surprise\", \"Neutral\"]\n",
    "\n",
    "# Prepare data\n",
    "data, target = load_fer(\"data/fer2013.npz\")\n",
    "data_train, data_test, target_train, target_test = \\\n",
    "  train_test_split(data, target, test_size=0.2, random_state=7, stratify=target)\n",
    "_, n_features = data.shape\n",
    "\n",
    "# Prepare targets\n",
    "onehot_train = to_categorical(target_train)\n",
    "onehot_test = to_categorical(target_test)\n",
    "\n",
    "# Build model\n",
    "model = Sequential()\n",
    "if image_data_format() == 'channels_first':\n",
    "    model.add(Reshape((1, IMAGE_HEIGHT, IMAGE_WIDTH), input_shape=(n_features,)))\n",
    "else:\n",
    "    model.add(Reshape((IMAGE_HEIGHT, IMAGE_WIDTH, 1), input_shape=(n_features,)))\n",
    "model.add(Conv2D(64, kernel_size=(3, 3), activation='relu'))\n",
    "model.add(MaxPooling2D(pool_size=(2, 2)))\n",
    "model.add(Conv2D(128, kernel_size=(3, 3), activation='relu'))\n",
    "model.add(MaxPooling2D(pool_size=(2, 2)))\n",
    "model.add(Flatten())\n",
    "model.add(Dense(100, activation='relu'))\n",
    "model.add(Dropout(0.25))\n",
    "model.add(Dense(len(EMOTIONS)))\n",
    "model.add(Dropout(0.25))\n",
    "model.add(Activation(\"softmax\"))\n",
    "\n",
    "# Compile model\n",
    "model.compile(\n",
    "    loss='categorical_crossentropy',\n",
    "    optimizer='adam',\n",
    "    metrics=['accuracy']\n",
    ")\n",
    "\n",
    "# Fit model\n",
    "callbacks_list = [\n",
    "    ModelCheckpoint('./checkpoints/best_weights.hdf5', monitor='val_loss', verbose=1, save_best_only=True, mode='min'),\n",
    "    TensorBoard(log_dir='./logs', histogram_freq=0, write_graph=True, write_images=True),\n",
    "    EarlyStopping(monitor='val_loss', min_delta=0.0001, patience=3, verbose=1, mode='auto')\n",
    "]\n",
    "model.fit(data_train, onehot_train, epochs=10000, batch_size=32, validation_split=0.2, callbacks=callbacks_list)\n",
    "\n",
    "# Evaluate best model\n",
    "model.load_weights(\"best_weights.hdf5\")\n",
    "results = model.evaluate(data_test, onehot_test, batch_size=len(data_test))\n",
    "print(\"\\n[!] Evaluation results:\")\n",
    "print(\"{0}: {2:.3f}, {1}: {3:.3f}\".format(*model.metrics_names, *results))"
   ]
  }
 ],
 "metadata": {
  "kernelspec": {
   "display_name": "Python 3",
   "language": "python",
   "name": "python3"
  },
  "language_info": {
   "codemirror_mode": {
    "name": "ipython",
    "version": 3
   },
   "file_extension": ".py",
   "mimetype": "text/x-python",
   "name": "python",
   "nbconvert_exporter": "python",
   "pygments_lexer": "ipython3",
   "version": "3.6.3"
  }
 },
 "nbformat": 4,
 "nbformat_minor": 2
}
